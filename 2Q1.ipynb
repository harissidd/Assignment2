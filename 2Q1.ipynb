{
 "cells": [
  {
   "cell_type": "code",
   "execution_count": 1,
   "metadata": {},
   "outputs": [
    {
     "name": "stdout",
     "output_type": "stream",
     "text": [
      "Enter Number Of English :80\n",
      "Enter Number Of Mathematics :90\n",
      "Enter Number Of Urdu :70\n",
      "Enter Number Of Chemistry 60\n",
      "Enter Number Of physics 80\n",
      "Good! Your grade is C\n"
     ]
    }
   ],
   "source": [
    "english = int(input(\"Enter Number Of English :\"))\n",
    "math = int(input (\"Enter Number Of Mathematics :\"))\n",
    "urdu = int(input(\"Enter Number Of Urdu :\"))\n",
    "chemistry = int(input(\"Enter Number Of Chemistry \"))\n",
    "physics = int(input(\"Enter Number Of physics \"))\n",
    "ad =english + math + urdu + chemistry + physics\n",
    "score = ad/5\n",
    "if score >= 90:\n",
    "    print(\"Excellent! Your grade is A\")\n",
    "elif score >= 80:\n",
    "    print(\"Great! Your grade is B\")\n",
    "elif score >= 70:\n",
    "    print(\"Good! Your grade is C\")\n",
    "elif score >= 60:\n",
    "    print(\"Your grade is D. You should work hard on you studies.\")\n",
    "else:\n",
    "    print(\"You failed in the exam\")"
   ]
  },
  {
   "cell_type": "code",
   "execution_count": null,
   "metadata": {},
   "outputs": [],
   "source": []
  }
 ],
 "metadata": {
  "kernelspec": {
   "display_name": "Python 3",
   "language": "python",
   "name": "python3"
  },
  "language_info": {
   "codemirror_mode": {
    "name": "ipython",
    "version": 3
   },
   "file_extension": ".py",
   "mimetype": "text/x-python",
   "name": "python",
   "nbconvert_exporter": "python",
   "pygments_lexer": "ipython3",
   "version": "3.7.4"
  }
 },
 "nbformat": 4,
 "nbformat_minor": 2
}
